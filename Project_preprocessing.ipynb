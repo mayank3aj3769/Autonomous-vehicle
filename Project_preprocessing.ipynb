{
  "nbformat": 4,
  "nbformat_minor": 0,
  "metadata": {
    "colab": {
      "name": "Project_preprocessing.ipynb",
      "provenance": [],
      "collapsed_sections": []
    },
    "kernelspec": {
      "name": "python3",
      "display_name": "Python 3"
    },
    "accelerator": "GPU"
  },
  "cells": [
    {
      "cell_type": "code",
      "metadata": {
        "id": "JTF2y6kdHAtP",
        "colab": {
          "base_uri": "https://localhost:8080/",
          "height": 121
        },
        "outputId": "7eee6578-e93b-4213-837f-61fed57eb6cf"
      },
      "source": [
        "from google.colab import drive\n",
        "drive.mount('/content/drive')"
      ],
      "execution_count": null,
      "outputs": [
        {
          "output_type": "stream",
          "text": [
            "Go to this URL in a browser: https://accounts.google.com/o/oauth2/auth?client_id=947318989803-6bn6qk8qdgf4n4g3pfee6491hc0brc4i.apps.googleusercontent.com&redirect_uri=urn%3aietf%3awg%3aoauth%3a2.0%3aoob&response_type=code&scope=email%20https%3a%2f%2fwww.googleapis.com%2fauth%2fdocs.test%20https%3a%2f%2fwww.googleapis.com%2fauth%2fdrive%20https%3a%2f%2fwww.googleapis.com%2fauth%2fdrive.photos.readonly%20https%3a%2f%2fwww.googleapis.com%2fauth%2fpeopleapi.readonly\n",
            "\n",
            "Enter your authorization code:\n",
            "··········\n",
            "Mounted at /content/drive\n"
          ],
          "name": "stdout"
        }
      ]
    },
    {
      "cell_type": "code",
      "metadata": {
        "id": "BBJRrP1SINh5"
      },
      "source": [
        "import glob #grab some files \n",
        "from tqdm import tqdm # to look at progress bars\n",
        "import scipy # Used for image processing \n",
        "import scipy.misc\n",
        "import pandas as pd\n",
        "import h5py as hp\n",
        "import numpy as np"
      ],
      "execution_count": null,
      "outputs": []
    },
    {
      "cell_type": "code",
      "metadata": {
        "id": "buS4-RjtISoH",
        "colab": {
          "base_uri": "https://localhost:8080/",
          "height": 202
        },
        "outputId": "1d88f5c1-0573-41ef-ed63-841abcc6ec7e"
      },
      "source": [
        "camfiles=sorted(glob.glob('/content/drive/My Drive/Project_data/cam/*.h5'))\n",
        "camfiles"
      ],
      "execution_count": null,
      "outputs": [
        {
          "output_type": "execute_result",
          "data": {
            "text/plain": [
              "['/content/drive/My Drive/Project_data/cam/2016-01-30--11-24-51.h5',\n",
              " '/content/drive/My Drive/Project_data/cam/2016-01-30--13-46-00.h5',\n",
              " '/content/drive/My Drive/Project_data/cam/2016-01-31--19-19-25.h5',\n",
              " '/content/drive/My Drive/Project_data/cam/2016-02-02--10-16-58.h5',\n",
              " '/content/drive/My Drive/Project_data/cam/2016-02-08--14-56-28.h5',\n",
              " '/content/drive/My Drive/Project_data/cam/2016-02-11--21-32-47.h5',\n",
              " '/content/drive/My Drive/Project_data/cam/2016-03-29--10-50-20.h5',\n",
              " '/content/drive/My Drive/Project_data/cam/2016-04-21--14-48-08.h5',\n",
              " '/content/drive/My Drive/Project_data/cam/2016-05-12--22-20-00.h5',\n",
              " '/content/drive/My Drive/Project_data/cam/2016-06-02--21-39-29.h5',\n",
              " '/content/drive/My Drive/Project_data/cam/2016-06-08--11-46-01.h5']"
            ]
          },
          "metadata": {
            "tags": []
          },
          "execution_count": 4
        }
      ]
    },
    {
      "cell_type": "code",
      "metadata": {
        "id": "upZRG_FQImN9",
        "colab": {
          "base_uri": "https://localhost:8080/",
          "height": 202
        },
        "outputId": "72ea32cb-b412-45ff-b5fc-9da3c34c6ce7"
      },
      "source": [
        "logfiles=sorted(glob.glob('/content/drive/My Drive/Project_data/log/*.h5'))\n",
        "logfiles"
      ],
      "execution_count": null,
      "outputs": [
        {
          "output_type": "execute_result",
          "data": {
            "text/plain": [
              "['/content/drive/My Drive/Project_data/log/2016-01-30--11-24-51.h5',\n",
              " '/content/drive/My Drive/Project_data/log/2016-01-30--13-46-00.h5',\n",
              " '/content/drive/My Drive/Project_data/log/2016-01-31--19-19-25.h5',\n",
              " '/content/drive/My Drive/Project_data/log/2016-02-02--10-16-58.h5',\n",
              " '/content/drive/My Drive/Project_data/log/2016-02-08--14-56-28.h5',\n",
              " '/content/drive/My Drive/Project_data/log/2016-02-11--21-32-47.h5',\n",
              " '/content/drive/My Drive/Project_data/log/2016-03-29--10-50-20.h5',\n",
              " '/content/drive/My Drive/Project_data/log/2016-04-21--14-48-08.h5',\n",
              " '/content/drive/My Drive/Project_data/log/2016-05-12--22-20-00.h5',\n",
              " '/content/drive/My Drive/Project_data/log/2016-06-02--21-39-29.h5',\n",
              " '/content/drive/My Drive/Project_data/log/2016-06-08--11-46-01.h5']"
            ]
          },
          "metadata": {
            "tags": []
          },
          "execution_count": 5
        }
      ]
    },
    {
      "cell_type": "code",
      "metadata": {
        "id": "AeH5xDxEHKEv",
        "colab": {
          "base_uri": "https://localhost:8080/",
          "height": 34
        },
        "outputId": "7da9c609-ad21-4fcb-f936-6501277a2c12"
      },
      "source": [
        "import tensorflow as tf\n",
        "import keras"
      ],
      "execution_count": null,
      "outputs": [
        {
          "output_type": "stream",
          "text": [
            "Using TensorFlow backend.\n"
          ],
          "name": "stderr"
        }
      ]
    },
    {
      "cell_type": "code",
      "metadata": {
        "id": "ch5oJzvqIyEY"
      },
      "source": [
        "from keras.models import Sequential,Model \n",
        "from keras.layers.core import Dense,Dropout,Activation,Flatten,Reshape\n",
        "from keras.layers import Embedding,Input ,merge, ELU\n",
        "from keras.layers.recurrent import SimpleRNN , LSTM \n",
        "from keras.layers.convolutional import Convolution2D , MaxPooling2D\n",
        "from keras.optimizers import SGD ,Adam,RMSprop\n",
        "from keras.regularizers import l2,l1\n",
        "from keras.utils.np_utils import to_categorical \n",
        "from keras import backend as K\n",
        "from sklearn.metrics import accuracy_score"
      ],
      "execution_count": null,
      "outputs": []
    },
    {
      "cell_type": "code",
      "metadata": {
        "id": "XlGUug9iJU98"
      },
      "source": [
        "#dfile='/content/drive/My Drive/Project_data/cam/2016-02-08--14-56-28.h5'\n",
        "dfile=camfiles[5]\n",
        "h5f=hp.File(dfile,'r')\n",
        "img=h5f.get('X')"
      ],
      "execution_count": null,
      "outputs": []
    },
    {
      "cell_type": "code",
      "metadata": {
        "id": "ziQ54MFnulxm",
        "colab": {
          "base_uri": "https://localhost:8080/",
          "height": 34
        },
        "outputId": "511be96d-a101-4e8f-80de-26cc67a14ffd"
      },
      "source": [
        "img_train=np.array(img[:,:,:,100:-80])\n",
        "img_train.shape"
      ],
      "execution_count": null,
      "outputs": [
        {
          "output_type": "execute_result",
          "data": {
            "text/plain": [
              "(85296, 3, 160, 140)"
            ]
          },
          "metadata": {
            "tags": []
          },
          "execution_count": 9
        }
      ]
    },
    {
      "cell_type": "code",
      "metadata": {
        "id": "yVxDHBsr3KIn"
      },
      "source": [
        "del img"
      ],
      "execution_count": null,
      "outputs": []
    },
    {
      "cell_type": "code",
      "metadata": {
        "id": "N6HSGmYrrQYW",
        "colab": {
          "base_uri": "https://localhost:8080/",
          "height": 285
        },
        "outputId": "ec7d4344-f8b9-494b-801d-5b169f4c9ed5"
      },
      "source": [
        "import cv2\n",
        "import math\n",
        "import matplotlib.pyplot as plt\n",
        "nframes=img_train.shape[0]\n",
        "\n",
        "smcam=np.zeros((nframes,3,80,80),dtype=np.uint8) # strip down images to 64 x 64 \n",
        "temp_img=np.zeros((3,80,80),dtype=np.uint8)\n",
        "#c=x_train[:,:,:,80:-80]\n",
        "#temp=c[3000]\n",
        "#print(c.shape)\n",
        "#plt.imshow(temp.transpose(1,2,0))\n",
        "for i in range(nframes):\n",
        "    #print(i)\n",
        "    temp=img_train[i]\n",
        "    temp= cv2.resize(temp.transpose(1,2,0), (80,80), interpolation = cv2.INTER_AREA)\n",
        "    smcam[i]=temp.transpose(2,1,0)                          #cv2.resize(temp,(64,64), interpolation = cv2.INTER_AREA)\n",
        "    #smcam[i].transpose()\n",
        "    #resize(image, (100, 100))\n",
        "lgth=math.floor(0.9*nframes)\n",
        "img_test=smcam[lgth+1:-1,:,:,:]\n",
        "img_train=smcam[0:lgth,:,:,:]\n",
        "\n",
        "plt.imshow(smcam[3000].transpose(2,1,0))\n"
      ],
      "execution_count": null,
      "outputs": [
        {
          "output_type": "execute_result",
          "data": {
            "text/plain": [
              "<matplotlib.image.AxesImage at 0x7f1c899b6da0>"
            ]
          },
          "metadata": {
            "tags": []
          },
          "execution_count": 11
        },
        {
          "output_type": "display_data",
          "data": {
            "image/png": "[encoded data removed]",
            "text/plain": [
              "<Figure size 432x288 with 1 Axes>"
            ]
          },
          "metadata": {
            "tags": [],
            "needs_background": "light"
          }
        }
      ]
    },
    {
      "cell_type": "code",
      "metadata": {
        "id": "xvOOlPO05Ikh",
        "colab": {
          "base_uri": "https://localhost:8080/",
          "height": 50
        },
        "outputId": "e413d339-da7f-43b0-b584-368604f15fdc"
      },
      "source": [
        "h5f.close()\n",
        "print(img_test.shape)\n",
        "print(img_train.shape)"
      ],
      "execution_count": null,
      "outputs": [
        {
          "output_type": "stream",
          "text": [
            "(8528, 3, 80, 80)\n",
            "(76766, 3, 80, 80)\n"
          ],
          "name": "stdout"
        }
      ]
    },
    {
      "cell_type": "code",
      "metadata": {
        "id": "WppVssRFLjT4"
      },
      "source": [
        "#def normalize(x):\n",
        " #   return (x.astype(float) - 128) / 128\n",
        "#img_norm_train=np.zeros((nframes*3*160*320,1),dtype=np.uint8)\n",
        "#x_norm_train=np.zeros((3*160*320,1),dtype=np.uint8)\n",
        "#x_train.flatten()\n",
        "#img_norm_train=normalize(x_train)\n",
        "#img_norm_train=Reshape(x_train,(nframes,3,160,320))\n",
        "#img_norm=normalize(img)"
      ],
      "execution_count": null,
      "outputs": []
    },
    {
      "cell_type": "code",
      "metadata": {
        "id": "2gtXYw7Du1Za"
      },
      "source": [
        "log=logfiles[5]\n",
        "h5f=hp.File(log,'r')"
      ],
      "execution_count": null,
      "outputs": []
    },
    {
      "cell_type": "code",
      "metadata": {
        "id": "-SqQpJwfvBki"
      },
      "source": [
        "A=dict(h5f.items())"
      ],
      "execution_count": null,
      "outputs": []
    },
    {
      "cell_type": "code",
      "metadata": {
        "id": "6G1kkoA1vKik",
        "colab": {
          "base_uri": "https://localhost:8080/",
          "height": 34
        },
        "outputId": "d2d530d5-e936-460a-8d20-264ff752abb4"
      },
      "source": [
        "A['cam1_ptr'][()] # Camera pointer log file \n",
        "np.max(A['cam1_ptr'][()])"
      ],
      "execution_count": null,
      "outputs": [
        {
          "output_type": "execute_result",
          "data": {
            "text/plain": [
              "85295.0"
            ]
          },
          "metadata": {
            "tags": []
          },
          "execution_count": 67
        }
      ]
    },
    {
      "cell_type": "code",
      "metadata": {
        "id": "LxfQWYLfvTOd"
      },
      "source": [
        "%matplotlib inline \n",
        "\n",
        "plt.ion()"
      ],
      "execution_count": null,
      "outputs": []
    },
    {
      "cell_type": "code",
      "metadata": {
        "id": "k_IFI1F4vYo4",
        "colab": {
          "base_uri": "https://localhost:8080/",
          "height": 282
        },
        "outputId": "6819a368-97e6-4d67-bb0f-d30bfee7ffb3"
      },
      "source": [
        "plt.plot(A['cam1_ptr'][()])"
      ],
      "execution_count": null,
      "outputs": [
        {
          "output_type": "execute_result",
          "data": {
            "text/plain": [
              "[<matplotlib.lines.Line2D at 0x7f1c880bc0b8>]"
            ]
          },
          "metadata": {
            "tags": []
          },
          "execution_count": 69
        },
        {
          "output_type": "display_data",
          "data": {
            "image/png": "[encoded data removed]",
            "text/plain": [
              "<Figure size 432x288 with 1 Axes>"
            ]
          },
          "metadata": {
            "tags": [],
            "needs_background": "light"
          }
        }
      ]
    },
    {
      "cell_type": "code",
      "metadata": {
        "id": "ZXJ5TPLOvcTn"
      },
      "source": [
        "B= A['cam1_ptr'][()]\n",
        "#list(B)"
      ],
      "execution_count": null,
      "outputs": []
    },
    {
      "cell_type": "code",
      "metadata": {
        "id": "SJjsbP88vgvf",
        "colab": {
          "base_uri": "https://localhost:8080/",
          "height": 34
        },
        "outputId": "4a3e70e6-6e26-4eea-a68d-3ccf5082b81c"
      },
      "source": [
        "B.max()"
      ],
      "execution_count": null,
      "outputs": [
        {
          "output_type": "execute_result",
          "data": {
            "text/plain": [
              "85295.0"
            ]
          },
          "metadata": {
            "tags": []
          },
          "execution_count": 71
        }
      ]
    },
    {
      "cell_type": "code",
      "metadata": {
        "id": "Y5IwUeAhvpzj"
      },
      "source": [
        "tm=A['times'][()] # Actual time in seconds , this clip consists of 1000/60 ~ 15 mins of driving "
      ],
      "execution_count": null,
      "outputs": []
    },
    {
      "cell_type": "code",
      "metadata": {
        "id": "r6p0O8xGvuT1",
        "colab": {
          "base_uri": "https://localhost:8080/",
          "height": 34
        },
        "outputId": "eb86a144-6a80-4f13-efdb-163515f679c6"
      },
      "source": [
        "len(tm)"
      ],
      "execution_count": null,
      "outputs": [
        {
          "output_type": "execute_result",
          "data": {
            "text/plain": [
              "426596"
            ]
          },
          "metadata": {
            "tags": []
          },
          "execution_count": 73
        }
      ]
    },
    {
      "cell_type": "code",
      "metadata": {
        "id": "EM7lF-gu0M7-"
      },
      "source": [
        "spds=h5f['speed'][()]\n",
        "accel=h5f['car_accel'][()]\n",
        "steer=h5f['steering_angle'][()]\n",
        "ptrs=h5f['cam1_ptr'][()]"
      ],
      "execution_count": null,
      "outputs": []
    },
    {
      "cell_type": "code",
      "metadata": {
        "id": "Sw0npR9O2NWS",
        "colab": {
          "base_uri": "https://localhost:8080/",
          "height": 34
        },
        "outputId": "98b93aab-8996-4332-a621-fc0a46393f6b"
      },
      "source": [
        "spds.shape"
      ],
      "execution_count": null,
      "outputs": [
        {
          "output_type": "execute_result",
          "data": {
            "text/plain": [
              "(426596,)"
            ]
          },
          "metadata": {
            "tags": []
          },
          "execution_count": 79
        }
      ]
    },
    {
      "cell_type": "code",
      "metadata": {
        "id": "JhdEbB0FirqM",
        "colab": {
          "base_uri": "https://localhost:8080/",
          "height": 34
        },
        "outputId": "bbaf4670-4c7c-45df-fa4f-5e11c8d73309"
      },
      "source": [
        "ptrs"
      ],
      "execution_count": null,
      "outputs": [
        {
          "output_type": "execute_result",
          "data": {
            "text/plain": [
              "array([0., 0., 0., ..., 0., 0., 0.])"
            ]
          },
          "metadata": {
            "tags": []
          },
          "execution_count": 77
        }
      ]
    },
    {
      "cell_type": "code",
      "metadata": {
        "id": "_5t9-aqp2e18",
        "colab": {
          "base_uri": "https://localhost:8080/",
          "height": 34
        },
        "outputId": "0bd31f45-c0ec-452e-ab43-70733e4473e1"
      },
      "source": [
        "steer"
      ],
      "execution_count": null,
      "outputs": [
        {
          "output_type": "execute_result",
          "data": {
            "text/plain": [
              "array([-154., -154., -154., ...,  100.,  100.,  100.])"
            ]
          },
          "metadata": {
            "tags": []
          },
          "execution_count": 78
        }
      ]
    },
    {
      "cell_type": "code",
      "metadata": {
        "id": "p5vOSIew2xxC"
      },
      "source": [
        "starts=np.zeros(nframes+2,dtype=np.uint32)"
      ],
      "execution_count": null,
      "outputs": []
    },
    {
      "cell_type": "code",
      "metadata": {
        "id": "pj3Rwei52_d7",
        "colab": {
          "base_uri": "https://localhost:8080/",
          "height": 34
        },
        "outputId": "323db437-f8b9-4ea5-f963-c7f90b83237c"
      },
      "source": [
        " # ?? \n",
        "cur=1\n",
        "for i,p in enumerate(ptrs):\n",
        "    if int(p)==cur:\n",
        "      starts[cur]= i # i is the index of whatever value you're on \n",
        "      cur+=1\n",
        "print(starts.shape)"
      ],
      "execution_count": null,
      "outputs": [
        {
          "output_type": "stream",
          "text": [
            "(85298,)\n"
          ],
          "name": "stdout"
        }
      ]
    },
    {
      "cell_type": "code",
      "metadata": {
        "id": "LA-9yIkA7Qxf",
        "colab": {
          "base_uri": "https://localhost:8080/",
          "height": 67
        },
        "outputId": "188720ee-2d0d-4015-c99f-0b1784af3175"
      },
      "source": [
        "count=0\n",
        "\n",
        "i=100\n",
        "for i in range(100,85297):\n",
        "   if (starts[i]==0):\n",
        "       break ;\n",
        "   \n",
        "print(i)     \n",
        "#starts[0]=0\n",
        "print(starts[85295])\n",
        "starts=starts[0:-2]\n",
        "print(starts.shape)"
      ],
      "execution_count": null,
      "outputs": [
        {
          "output_type": "stream",
          "text": [
            "85296\n",
            "426587\n",
            "(85296,)\n"
          ],
          "name": "stdout"
        }
      ]
    },
    {
      "cell_type": "code",
      "metadata": {
        "id": "ztTMhaq0656e"
      },
      "source": [
        "spds=h5f['speed'][starts]\n",
        "accel=h5f['car_accel'][starts]\n",
        "steer=h5f['steering_angle'][starts]\n",
        "gas=h5f['gas'][starts]\n",
        "brake=h5f['brake'][starts]\n",
        "ptrs=h5f['cam1_ptr'][starts]\n"
      ],
      "execution_count": null,
      "outputs": []
    },
    {
      "cell_type": "code",
      "metadata": {
        "id": "YlmJX5l83Oqr",
        "colab": {
          "base_uri": "https://localhost:8080/",
          "height": 34
        },
        "outputId": "9fe87f5f-a064-4507-93b7-f467511ff77d"
      },
      "source": [
        "print(plt.rcParams.get('figure.figsize'))\n",
        "fig_size = plt.rcParams[\"figure.figsize\"]\n",
        "fig_size[0] = 5 # Dimensions of output window\n",
        "fig_size[1] = 5\n",
        "plt.rcParams[\"figure.figsize\"] = fig_size"
      ],
      "execution_count": null,
      "outputs": [
        {
          "output_type": "stream",
          "text": [
            "[6.0, 4.0]\n"
          ],
          "name": "stdout"
        }
      ]
    },
    {
      "cell_type": "code",
      "metadata": {
        "id": "yGEqN9to3VSe",
        "colab": {
          "base_uri": "https://localhost:8080/",
          "height": 337
        },
        "outputId": "5409178d-8024-49b4-d82d-c9d7bae48d9f"
      },
      "source": [
        "plt.plot(spds)"
      ],
      "execution_count": null,
      "outputs": [
        {
          "output_type": "execute_result",
          "data": {
            "text/plain": [
              "[<matplotlib.lines.Line2D at 0x7f1c886cafd0>]"
            ]
          },
          "metadata": {
            "tags": []
          },
          "execution_count": 90
        },
        {
          "output_type": "display_data",
          "data": {
            "image/png": "[encoded data removed]",
            "text/plain": [
              "<Figure size 360x360 with 1 Axes>"
            ]
          },
          "metadata": {
            "tags": [],
            "needs_background": "light"
          }
        }
      ]
    },
    {
      "cell_type": "code",
      "metadata": {
        "id": "D1zUZ56X3jn4",
        "colab": {
          "base_uri": "https://localhost:8080/",
          "height": 340
        },
        "outputId": "e0ef9514-c287-4da5-84cb-a3e1f19114e1"
      },
      "source": [
        "plt.plot(accel) # huge spike shows accelaration changes are dramatic\n",
        "                # dense area shows that vehicle is experiencing less speed changes "
      ],
      "execution_count": null,
      "outputs": [
        {
          "output_type": "execute_result",
          "data": {
            "text/plain": [
              "[<matplotlib.lines.Line2D at 0x7f1c89469898>]"
            ]
          },
          "metadata": {
            "tags": []
          },
          "execution_count": 91
        },
        {
          "output_type": "display_data",
          "data": {
            "image/png": "[encoded data removed]",
            "text/plain": [
              "<Figure size 360x360 with 1 Axes>"
            ]
          },
          "metadata": {
            "tags": [],
            "needs_background": "light"
          }
        }
      ]
    },
    {
      "cell_type": "code",
      "metadata": {
        "id": "kvwss8Jd1ov4",
        "colab": {
          "base_uri": "https://localhost:8080/",
          "height": 470
        },
        "outputId": "8fb537bd-523d-482d-f328-5ad86382b9b5"
      },
      "source": [
        "# Performing the same scale up operation on all 4 necessary features\n",
        "print(\"accel \",accel[100:120]) \n",
        "accel_norm=(accel-np.min(accel))/(np.max(accel)-np.min(accel))\n",
        "print(\" \\n accel_norm  \", accel_norm[100:120])\n",
        "steer_norm=(steer-np.min(steer))/(np.max(steer)-np.min(steer))\n",
        "print(\"\\n gas :\",gas[20:40])\n",
        "gas_norm=(gas-np.min(gas))/(np.max(gas)-np.min(gas))\n",
        "print(\"\\n gas_norm \",gas_norm[20:40])\n",
        "brake_norm=(brake-np.min(brake))/(np.max(brake)-np.min(brake))\n",
        "print(\"\\n brake :\",brake[100:120])\n",
        "print(\"\\n brake_norm :\",brake_norm[100:120])\n",
        "print(spds[100:120])\n",
        "spds_norm=(spds-np.min(spds))/(np.max(spds)-np.min(spds))\n",
        "print(\"\\n Speed_norm :\",spds_norm[100:120])"
      ],
      "execution_count": null,
      "outputs": [
        {
          "output_type": "stream",
          "text": [
            "accel  [0. 0. 0. 0. 0. 0. 0. 0. 0. 0. 0. 0. 0. 0. 0. 0. 0. 0. 0. 0.]\n",
            " \n",
            " accel_norm   [0.40206732 0.40206732 0.40206732 0.40206732 0.40206732 0.40206732\n",
            " 0.40206732 0.40206732 0.40206732 0.40206732 0.40206732 0.40206732\n",
            " 0.40206732 0.40206732 0.40206732 0.40206732 0.40206732 0.40206732\n",
            " 0.40206732 0.40206732]\n",
            "\n",
            " gas : [0. 0. 0. 0. 0. 0. 0. 0. 0. 0. 0. 0. 0. 0. 0. 0. 0. 0. 0. 0.]\n",
            "\n",
            " gas_norm  [0. 0. 0. 0. 0. 0. 0. 0. 0. 0. 0. 0. 0. 0. 0. 0. 0. 0. 0. 0.]\n",
            "\n",
            " brake : [33679.84380528 35142.7171953  36605.59058532 38068.46397534\n",
            " 39531.33736536 40994.21075537 42457.08414539 43919.95753541\n",
            " 45382.83092543 46845.70431545 48308.57770546 49771.45109548\n",
            " 51234.3244855  52697.19787552 54160.07126554 55622.94465555\n",
            " 57085.81804557 58548.69143559 60011.56482561 61474.43821563]\n",
            "\n",
            " brake_norm : [0.52777533 0.55065561 0.57353589 0.59641617 0.61929644 0.64217672\n",
            " 0.665057   0.68793727 0.71081755 0.73369783 0.7565781  0.77945838\n",
            " 0.80233866 0.82521894 0.84809921 0.87097949 0.89385977 0.91674004\n",
            " 0.93962032 0.9625006 ]\n",
            "[0. 0. 0. 0. 0. 0. 0. 0. 0. 0. 0. 0. 0. 0. 0. 0. 0. 0. 0. 0.]\n",
            "\n",
            " Speed_norm : [0.03199254 0.03199254 0.03199254 0.03199254 0.03199254 0.03199254\n",
            " 0.03199254 0.03199254 0.03199254 0.03199254 0.03199254 0.03199254\n",
            " 0.03199254 0.03199254 0.03199254 0.03199254 0.03199254 0.03199254\n",
            " 0.03199254 0.03199254]\n"
          ],
          "name": "stdout"
        }
      ]
    },
    {
      "cell_type": "code",
      "metadata": {
        "id": "xF4tqgaEBxEK"
      },
      "source": [
        "del accel\n",
        "del brake\n",
        "del steer\n",
        "del gas\n",
        "del spds\n"
      ],
      "execution_count": null,
      "outputs": []
    },
    {
      "cell_type": "code",
      "metadata": {
        "id": "WJKAhVL0DeXk",
        "colab": {
          "base_uri": "https://localhost:8080/",
          "height": 269
        },
        "outputId": "4142f271-b2af-442f-a690-973692bb653e"
      },
      "source": [
        "data_1=np.load('/content/drive/My Drive/Project_data/data_set_3.npz')\n",
        "X_train_imgs=data_1['img_train']\n",
        "\n",
        "X_test_imgs=data_1['img_test']\n",
        "spds_t=data_1['spds']\n",
        "accel_t=data_1['accel']\n",
        "speedx=np.column_stack((data_1['spds'],data_1['accel']))\n",
        "#speedx=speedx.reshape((-1,2))\n",
        "steer_t=data_1['steer']\n",
        "gas_t=data_1['gas']\n",
        "brake_t=data_1['brake']\n",
        "print(brake_t.shape)\n",
        "print(\"brake= \",brake_t)\n",
        "#y1=np.concatenate(speedx,steer_t)\n",
        "#y_t=y_t.reshape((2,-1))\n",
        "y1=np.column_stack((data_1['steer'],data_1['gas']))   #,data_1['brake'])\n",
        "#y1=y1.reshape(-1,2)\n",
        "y2=np.column_stack((speedx,y1))\n",
        "#y2=y2.reshape(-1,4)\n",
        "y_t=np.column_stack((y2,brake_t))\n",
        "#y_t=y_t.reshape((-1,5))\n",
        "#print(steer_t)\n",
        "#print(speedx[10:20])\n",
        "#print(\" \\n X_t\",X_t)\n",
        "print(\"y_t shape: \",y_t.shape)\n",
        "y_t=np.array(y_t)\n",
        "y_train_t=y_t[0:X_train_imgs.shape[0]]\n",
        "y_test_t=y_t[X_train_imgs.shape[0]+1:-1]\n",
        "print(\"\\n y_t\",y_t[2300:2307]) # Checking 7 examples\n",
        "print(\"\\n X_train_imgs shape :\",X_train_imgs.shape)\n",
        "print(\"\\n y_train_imgs shape :\",y_train_t.shape)\n",
        "#np.reshape(X_t,X_t.shape[0],X_t.shape[2],X_t.shape[3],X_t.shape[1])\n",
        "#print(\"\\n X_t shape is now changed as per tf style :\",X_t.shape)\n",
        "\n",
        "#print(\"\\n \",brake_t)  /content/data_set.npz"
      ],
      "execution_count": null,
      "outputs": [
        {
          "output_type": "stream",
          "text": [
            "(85296,)\n",
            "brake=  [0.001001   0.001001   0.001001   ... 0.00125125 0.00125125 0.00125125]\n",
            "y_t shape:  (85296, 5)\n",
            "\n",
            " y_t [[0.03199254 0.40206732 0.60337256 0.         0.00675676]\n",
            " [0.03199254 0.40206732 0.60338946 0.         0.00675676]\n",
            " [0.03199254 0.40206732 0.60338946 0.         0.00675676]\n",
            " [0.03199254 0.40206732 0.60338946 0.         0.00675676]\n",
            " [0.03199254 0.40206732 0.60338946 0.         0.00675676]\n",
            " [0.03199254 0.40206732 0.60338946 0.         0.00675676]\n",
            " [0.03199254 0.40206732 0.60338946 0.         0.00675676]]\n",
            "\n",
            " X_train_imgs shape : (76766, 3, 80, 80)\n",
            "\n",
            " y_train_imgs shape : (76766, 5)\n"
          ],
          "name": "stdout"
        }
      ]
    },
    {
      "cell_type": "code",
      "metadata": {
        "id": "apLmOB2SvWau"
      },
      "source": [
        "np.savez('data_set_5.npz',\n",
        "         X_train_imgs=X_train_imgs,\n",
        "         X_test_imgs=X_test_imgs,\n",
        "         y_train_imgs=y_train_t,\n",
        "         y_test_imgs=y_test_t\n",
        "         )"
      ],
      "execution_count": null,
      "outputs": []
    },
    {
      "cell_type": "code",
      "metadata": {
        "id": "dA5_9MsGxph0"
      },
      "source": [
        "!cp \"/content/data_set_5.npz\"  \"/content/drive/My Drive/Project_data/data_set_5.npz\""
      ],
      "execution_count": null,
      "outputs": []
    },
    {
      "cell_type": "code",
      "metadata": {
        "id": "-c1dsi5bsYOy"
      },
      "source": [
        "\n",
        "#model.fit(X_t,(speedx,gas_t,brake_t,steer_t),batch_size=32,epochs=100,verbose=1,validation_split=0.1,shuffle=True)\n",
        "#model.fit(X_t,steer_t,batch_size=100,epochs=10,verbose=1,validation_split=0.1,shuffle=True)\n",
        "import keras.backend.tensorflow_backend as tfback\n",
        "def _get_available_gpus():\n",
        "    \"\"\"Get a list of available gpu devices (formatted as strings).\n",
        "\n",
        "    # Returns\n",
        "        A list of available GPU devices.\n",
        "    \"\"\"\n",
        "    #global _LOCAL_DEVICES\n",
        "    if tfback._LOCAL_DEVICES is None:\n",
        "        devices = tf.config.list_logical_devices()\n",
        "        tfback._LOCAL_DEVICES = [x.name for x in devices]\n",
        "    return [x for x in tfback._LOCAL_DEVICES if 'device:gpu' in x.lower()]\n",
        "\n",
        "tfback._get_available_gpus = _get_available_gpus"
      ],
      "execution_count": null,
      "outputs": []
    },
    {
      "cell_type": "code",
      "metadata": {
        "id": "SJ2J6TOwgoKm",
        "colab": {
          "base_uri": "https://localhost:8080/",
          "height": 655
        },
        "outputId": "92c89b44-34f6-4798-a363-c1f9140dd889"
      },
      "source": [
        "from keras.layers.convolutional import MaxPooling2D \n",
        "from keras.callbacks import EarlyStopping, ModelCheckpoint\n",
        "from keras.callbacks import TensorBoard, ReduceLROnPlateau\n",
        "from sklearn.metrics import accuracy_score\n",
        "from tensorflow.keras.models import Model\n",
        "from keras.layers import GlobalMaxPooling2D\n",
        "import tensorflow.keras\n",
        "import math\n",
        "\n",
        "#def baseline_mod\n",
        "spds_train=spds_t[0:50000]\n",
        "spds_test=spds_t[50001:-1]\n",
        "steer_train=steer_t[0:X_train_imgs.shape[0]]\n",
        "\n",
        "steer_test=steer_t[X_train_imgs.shape[0]+1:-1]\n",
        "\n",
        "accel_train=accel_t[0:50000]\n",
        "accel_test=accel_t[50001:-1]\n",
        "gas_train=gas_t[0:50000]\n",
        "gas_test=gas_t[50001:-1]\n",
        "brake_train=brake_t[0:50000]\n",
        "brake_test=brake_t[50001:-1]\n",
        "#inputs = keras.Input(shape=(3,80,80))\n",
        "model=Sequential()\n",
        "          #model.add(Dense(10,activation='relu')) #input layer\n",
        "model.add(Convolution2D(128,(3,3),input_shape=(3,80,80),activation='relu',data_format='channels_first')) #1st conv layer\n",
        "model.add(MaxPooling2D())       #pool_size=(2,2),data_format='channels_last'\n",
        "#x=modl(inputs)                  #add model layers\n",
        "                  #model.add(Conv2D(64, kernel_size=3, activation=’relu’, input_shape=(28,28,1)))\n",
        "model.add(Convolution2D(128,(3,3),activation='relu',data_format='channels_first'))\n",
        "model.add(MaxPooling2D())\n",
        "#x=modl(inputs)           #pool_size=(2,2),data_format='channels_first\n",
        "model.add(Convolution2D(128,(3,3),activation='relu',data_format='channels_first'))\n",
        "model.add(MaxPooling2D())\n",
        "#x=modl(inputs)     #pool_size=(2,2),data_format='channels_first'\n",
        "model.add(Convolution2D(64,(3,3),activation='relu'))\n",
        "#model.add(MaxPooling2D(pool_size=(2,2),data_format='channels_first'))\n",
        "model.add(Convolution2D(64,(3,3),activation='relu',data_format='channels_first'))\n",
        "model.add(MaxPooling2D()) \n",
        "#x=modl(inputs)        #\n",
        "model.add(Flatten())\n",
        "model.add(Dense(128, activation='relu'))\n",
        "#x=modl(inputs)\n",
        "model.add(Dense(64, activation='relu'))\n",
        "#x=modl(inputs)\n",
        "model.add(Dense(1,activation='linear'))\n",
        "#model= Model(inputs=inputs,outputs=outputs)\n",
        "print(model.summary())\n",
        "model.compile(loss='mse',optimizer='adam', metrics=[tf.keras.metrics.MeanAbsoluteError()])\n",
        "\n",
        "\n",
        "\n",
        "history = model.fit(X_train_imgs, steer_train, batch_size=100, epochs=10, validation_split=0.2)\n",
        "\n",
        " "
      ],
      "execution_count": null,
      "outputs": [
        {
          "output_type": "stream",
          "text": [
            "Model: \"sequential_3\"\n",
            "_________________________________________________________________\n",
            "Layer (type)                 Output Shape              Param #   \n",
            "=================================================================\n",
            "conv2d_7 (Conv2D)            (None, 128, 78, 78)       3584      \n",
            "_________________________________________________________________\n",
            "max_pooling2d_5 (MaxPooling2 (None, 64, 39, 78)        0         \n",
            "_________________________________________________________________\n",
            "conv2d_8 (Conv2D)            (None, 128, 37, 76)       73856     \n",
            "_________________________________________________________________\n",
            "max_pooling2d_6 (MaxPooling2 (None, 64, 18, 76)        0         \n",
            "_________________________________________________________________\n",
            "conv2d_9 (Conv2D)            (None, 128, 16, 74)       73856     \n",
            "_________________________________________________________________\n",
            "max_pooling2d_7 (MaxPooling2 (None, 64, 8, 74)         0         \n",
            "_________________________________________________________________\n",
            "conv2d_10 (Conv2D)           (None, 62, 6, 64)         42688     \n",
            "_________________________________________________________________\n",
            "conv2d_11 (Conv2D)           (None, 64, 4, 62)         35776     \n",
            "_________________________________________________________________\n",
            "max_pooling2d_8 (MaxPooling2 (None, 32, 2, 62)         0         \n",
            "_________________________________________________________________\n",
            "flatten_2 (Flatten)          (None, 3968)              0         \n",
            "_________________________________________________________________\n",
            "dense_4 (Dense)              (None, 128)               508032    \n",
            "_________________________________________________________________\n",
            "dense_5 (Dense)              (None, 64)                8256      \n",
            "_________________________________________________________________\n",
            "dense_6 (Dense)              (None, 1)                 65        \n",
            "=================================================================\n",
            "Total params: 746,113\n",
            "Trainable params: 746,113\n",
            "Non-trainable params: 0\n",
            "_________________________________________________________________\n",
            "None\n",
            "Train on 37216 samples, validate on 9305 samples\n",
            "Epoch 1/10\n",
            "  800/37216 [..............................] - ETA: 37:43 - loss: 452.2801 - mean_absolute_error: 15.8120"
          ],
          "name": "stdout"
        }
      ]
    },
    {
      "cell_type": "code",
      "metadata": {
        "id": "yychK5SXMpf6",
        "colab": {
          "base_uri": "https://localhost:8080/",
          "height": 282
        },
        "outputId": "ccad354a-5b75-4a2a-c1b0-5c8adea9ec64"
      },
      "source": [
        "import matplotlib.pyplot as plt\n",
        "\n",
        "pred=model.predict(X_test_imgs)\n",
        "plt.plot(pred,color='red')\n",
        "plt.plot(steer_test,color='blue')"
      ],
      "execution_count": null,
      "outputs": [
        {
          "output_type": "execute_result",
          "data": {
            "text/plain": [
              "[<matplotlib.lines.Line2D at 0x7fb9616b8588>]"
            ]
          },
          "metadata": {
            "tags": []
          },
          "execution_count": 51
        },
        {
          "output_type": "display_data",
          "data": {
            "image/png": "[encoded data removed]",
            "text/plain": [
              "<Figure size 432x288 with 1 Axes>"
            ]
          },
          "metadata": {
            "tags": [],
            "needs_background": "light"
          }
        }
      ]
    },
    {
      "cell_type": "code",
      "metadata": {
        "id": "IfWyAjT8Sg2f"
      },
      "source": [
        "model.save('Steer_7GB.model')\n",
        "!cp \"/content/Steer_7GB.model\"  \"/content/drive/My Drive/Cam/Steer_7GB.model\""
      ],
      "execution_count": null,
      "outputs": []
    },
    {
      "cell_type": "code",
      "metadata": {
        "id": "zb2irlG3gpeU"
      },
      "source": [
        ""
      ],
      "execution_count": null,
      "outputs": []
    },
    {
      "cell_type": "code",
      "metadata": {
        "id": "mhB3rAoVsWKW"
      },
      "source": [
        ""
      ],
      "execution_count": null,
      "outputs": []
    },
    {
      "cell_type": "code",
      "metadata": {
        "id": "ncqJCEA0gtVa",
        "colab": {
          "base_uri": "https://localhost:8080/",
          "height": 246
        },
        "outputId": "d2fa190d-3a2b-4de2-e1c2-f86e4a62bfae"
      },
      "source": [
        "\"\"\"\n",
        "from keras.layers.convolutional import MaxPooling2D \n",
        "from keras.callbacks import EarlyStopping, ModelCheckpoint\n",
        "from keras.callbacks import TensorBoard, ReduceLROnPlateau\n",
        "from sklearn.metrics import accuracy_score\n",
        "from keras.layers import GlobalMaxPooling2D\n",
        "import math\n",
        "\n",
        "\n",
        "def build_model(layers):\n",
        "    model = Sequential()\n",
        "    \n",
        "    model.add(Convolution2D(128, (3,3),activation='relu',input_shape=(3,80,80),data_format='channels_first'))  # 64 -- 128\n",
        "\n",
        "    model.add(MaxPooling2D())\n",
        "    # model.add(Dropout(0.5))\n",
        "\n",
        "    model.add(Convolution2D(128, (3,3), activation='relu'))                   # 64 -- 128\n",
        "    #model.add(GlobalMaxPooling2D())\n",
        "    \n",
        "    model.add(Convolution2D(128, (3,3), activation='relu'))                   # 64 -- 128\n",
        "    model.add(GlobalMaxPooling2D())\n",
        "    \n",
        "    model.add(Flatten())\n",
        "    model.add(Dense(128, activation='relu'))                                      # 64 -- 128\n",
        "    model.add(Dense(64, activation='relu'))\n",
        "    #print(model.summary())\n",
        "    # model.add(Dropout(0.2))\n",
        "    #model.add(Flatten())\n",
        "    model.add(Dense(1),activation='linear')\n",
        "    #model.add(Activation('linear'))\n",
        "    \n",
        "    model.compile(loss='mse', optimizer='adam',metrics=[tf.keras.metrics.MeanSquaredError()])\n",
        "    \n",
        "    print(model.summary())\n",
        "    #plot_model(model, to_file='./model/model_'+filename+'.png', show_shapes=True)\n",
        "          \n",
        "    return model\n",
        "\n",
        "\n",
        "#X_train=X_t[0:22000]\n",
        "#X_test=X_t[-1000:-1]\n",
        "print(X_train_imgs.shape[1])\n",
        "spds_train=spds_t[0:50000]\n",
        "spds_test=spds_t[50001:-1]\n",
        "steer_train=steer_t[0:50000]\n",
        "\n",
        "steer_test=steer_t[50001:-1]\n",
        "\n",
        "accel_train=accel_t[0:50000]\n",
        "accel_test=accel_t[50001:-1]\n",
        "gas_train=gas_t[0:50000]\n",
        "gas_test=gas_t[50001:-1]\n",
        "brake_train=brake_t[0:50000]\n",
        "brake_test=brake_t[50001:-1]\n",
        "#y_train=[spds_train,accel_train,steer_train,gas_train,brake_train]\n",
        "#y_train=np.array(y_train)\n",
        "#y_test=[spds_test,accel_test,steer_test,gas_test,brake_test]\n",
        "#y_test=np.array(y_test)\n",
        "\n",
        "#print(y_train[1:3,:],\".............\\n \",y_test[1:3,:])\n",
        "batch_size=500\n",
        "#l=math.floor(X_train_imgs.shape[0]/batch_size)\n",
        "\n",
        "def run_network(X_train, y_train, X_test, y_test,layers,epochs):\n",
        "    model = build_model(layers)\n",
        "    history = None\n",
        "    \n",
        "    try:\n",
        "        history = model.fit(\n",
        "            X_train,y_train,\n",
        "            batch_size=batch_size, \n",
        "            epochs=epochs,\n",
        "            validation_split=0.1,\n",
        "            callbacks=[\n",
        "                TensorBoard(log_dir='./logs', write_graph=True),\n",
        "                ReduceLROnPlateau(monitor='val_loss', factor=0.2, patience=60, \n",
        "                                verbose=1, mode='auto', min_lr=0.0001),\n",
        "                EarlyStopping(monitor='val_loss', patience=80, verbose=1, mode='auto'),\n",
        "                ModelCheckpoint(filepath='weights.{epoch:02d}-{val_loss:.2f}.hdf5', monitor='val_loss', verbose=1, \n",
        "                                save_best_only=True, mode='auto')\n",
        "            ])\n",
        "    except KeyboardInterrupt:\n",
        "        print(\"\\nTraining interrupted\")\n",
        "    \n",
        "    predicted = model.predict(X_test)\n",
        "    scores = model.evaluate(predicted,y_test, verbose=0)\n",
        "    \n",
        "    return model, predicted, history, scores\n",
        "\n",
        "\n",
        "\n",
        "model, predicted, history, scores = run_network(X_train_imgs,steer_train,X_test_imgs,steer_test,layers=[X_train_imgs.shape[0],steer_train.shape[1]],epochs=5)\n",
        "\n",
        "\n",
        "print(scores)\n",
        "print(history.history.keys())\n",
        "\"\"\""
      ],
      "execution_count": null,
      "outputs": [
        {
          "output_type": "stream",
          "text": [
            "3\n"
          ],
          "name": "stdout"
        },
        {
          "output_type": "error",
          "ename": "IndexError",
          "evalue": "ignored",
          "traceback": [
            "\u001b[0;31m---------------------------------------------------------------------------\u001b[0m",
            "\u001b[0;31mIndexError\u001b[0m                                Traceback (most recent call last)",
            "\u001b[0;32m<ipython-input-15-c3cbcd40825e>\u001b[0m in \u001b[0;36m<module>\u001b[0;34m()\u001b[0m\n\u001b[1;32m     90\u001b[0m \u001b[0;34m\u001b[0m\u001b[0m\n\u001b[1;32m     91\u001b[0m \u001b[0;34m\u001b[0m\u001b[0m\n\u001b[0;32m---> 92\u001b[0;31m \u001b[0mmodel\u001b[0m\u001b[0;34m,\u001b[0m \u001b[0mpredicted\u001b[0m\u001b[0;34m,\u001b[0m \u001b[0mhistory\u001b[0m\u001b[0;34m,\u001b[0m \u001b[0mscores\u001b[0m \u001b[0;34m=\u001b[0m \u001b[0mrun_network\u001b[0m\u001b[0;34m(\u001b[0m\u001b[0mX_train_imgs\u001b[0m\u001b[0;34m,\u001b[0m\u001b[0msteer_train\u001b[0m\u001b[0;34m,\u001b[0m\u001b[0mX_test_imgs\u001b[0m\u001b[0;34m,\u001b[0m\u001b[0msteer_test\u001b[0m\u001b[0;34m,\u001b[0m\u001b[0mlayers\u001b[0m\u001b[0;34m=\u001b[0m\u001b[0;34m[\u001b[0m\u001b[0mX_train_imgs\u001b[0m\u001b[0;34m.\u001b[0m\u001b[0mshape\u001b[0m\u001b[0;34m[\u001b[0m\u001b[0;36m0\u001b[0m\u001b[0;34m]\u001b[0m\u001b[0;34m,\u001b[0m\u001b[0msteer_train\u001b[0m\u001b[0;34m.\u001b[0m\u001b[0mshape\u001b[0m\u001b[0;34m[\u001b[0m\u001b[0;36m1\u001b[0m\u001b[0;34m]\u001b[0m\u001b[0;34m]\u001b[0m\u001b[0;34m,\u001b[0m\u001b[0mepochs\u001b[0m\u001b[0;34m=\u001b[0m\u001b[0;36m5\u001b[0m\u001b[0;34m)\u001b[0m\u001b[0;34m\u001b[0m\u001b[0;34m\u001b[0m\u001b[0m\n\u001b[0m\u001b[1;32m     93\u001b[0m \u001b[0;34m\u001b[0m\u001b[0m\n\u001b[1;32m     94\u001b[0m \u001b[0;34m\u001b[0m\u001b[0m\n",
            "\u001b[0;31mIndexError\u001b[0m: tuple index out of range"
          ]
        }
      ]
    },
    {
      "cell_type": "code",
      "metadata": {
        "id": "OmBYRtF0iMLi"
      },
      "source": [
        ""
      ],
      "execution_count": null,
      "outputs": []
    }
  ]
}